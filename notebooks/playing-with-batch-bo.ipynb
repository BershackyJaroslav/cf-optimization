{
 "cells": [
  {
   "cell_type": "markdown",
   "metadata": {},
   "source": [
    "# CF Optimization: Playing with Batch Bayesian Optimization"
   ]
  },
  {
   "cell_type": "code",
   "execution_count": 1,
   "metadata": {},
   "outputs": [],
   "source": [
    "from GPyOpt.methods import BayesianOptimization\n",
    "\n",
    "from numpy import array, hstack, vstack, savetxt, loadtxt\n",
    "from numpy.random import seed"
   ]
  },
  {
   "cell_type": "code",
   "execution_count": 2,
   "metadata": {},
   "outputs": [],
   "source": [
    "seed(42)"
   ]
  },
  {
   "cell_type": "markdown",
   "metadata": {},
   "source": [
    "Define optimization domain."
   ]
  },
  {
   "cell_type": "code",
   "execution_count": 3,
   "metadata": {},
   "outputs": [],
   "source": [
    "domain = [\n",
    "    {'name': 'x', 'type': 'continuous', 'domain': (-2, 2), 'dimensionality':1},\n",
    "    {'name': 'y', 'type': 'continuous', 'domain': (-2, 2), 'dimensionality':1},\n",
    "]"
   ]
  },
  {
   "cell_type": "markdown",
   "metadata": {},
   "source": [
    "Define objective function."
   ]
  },
  {
   "cell_type": "code",
   "execution_count": 4,
   "metadata": {},
   "outputs": [],
   "source": [
    "def objective(X):\n",
    "    x1 = X[:, 0]\n",
    "    x2 = X[:, 1]\n",
    "    y = x1 ** 2 + x2 ** 2\n",
    "    print('x1 = %s; x2 = %s; y = %s' % (x1, x2, y))\n",
    "    return y"
   ]
  },
  {
   "cell_type": "markdown",
   "metadata": {},
   "source": [
    "Prepare initial data points and estimate objective values."
   ]
  },
  {
   "cell_type": "code",
   "execution_count": 5,
   "metadata": {},
   "outputs": [
    {
     "name": "stdout",
     "output_type": "stream",
     "text": [
      "x1 = [-1.37592544 -1.37602192]; x2 = [-1.76766555  1.46470458]; y = [5.01781231 4.03879583]\n"
     ]
    }
   ],
   "source": [
    "X_init = array([\n",
    "    -1.37592544, -1.76766555,\n",
    "    -1.37602192, 1.46470458,\n",
    "]).reshape((-1, 2))\n",
    "\n",
    "Y_init = objective(X_init).reshape((-1, 1))"
   ]
  },
  {
   "cell_type": "markdown",
   "metadata": {},
   "source": [
    "Start iterates over bayesian optimization loop."
   ]
  },
  {
   "cell_type": "code",
   "execution_count": 6,
   "metadata": {},
   "outputs": [],
   "source": [
    "X = X_init\n",
    "Y = Y_init"
   ]
  },
  {
   "cell_type": "code",
   "execution_count": 7,
   "metadata": {
    "scrolled": false
   },
   "outputs": [],
   "source": [
    "optimizer = BayesianOptimization(None,\n",
    "                                 X=X_init,\n",
    "                                 Y=Y_init,\n",
    "                                 domain=domain,\n",
    "                                 batch_size=2,\n",
    "                                 normalize_Y=True,\n",
    "                                 evaluator_type='local_penalization',\n",
    "                                 acquisition_type='EI',\n",
    "                                 acquisition_jitter=0,\n",
    "                                 maximize=False)"
   ]
  },
  {
   "cell_type": "code",
   "execution_count": 8,
   "metadata": {},
   "outputs": [
    {
     "name": "stdout",
     "output_type": "stream",
     "text": [
      "x1 = [-1.35803279 -1.38068555]; x2 = [1.71195854 1.07432532]; y = [4.77505511 3.06046749]\n"
     ]
    }
   ],
   "source": [
    "X_new = optimizer.suggest_next_locations()\n",
    "Y_new = objective(X_new).reshape((-1, 1))"
   ]
  },
  {
   "cell_type": "code",
   "execution_count": 9,
   "metadata": {},
   "outputs": [],
   "source": [
    "X = vstack([X, X_new])\n",
    "Y = vstack([Y, Y_new])"
   ]
  },
  {
   "cell_type": "markdown",
   "metadata": {},
   "source": [
    "Save all data."
   ]
  },
  {
   "cell_type": "code",
   "execution_count": 10,
   "metadata": {},
   "outputs": [],
   "source": [
    "savetxt('data.txt', hstack([X, Y]))"
   ]
  }
 ],
 "metadata": {
  "kernelspec": {
   "display_name": "cf-opt",
   "language": "python",
   "name": "python3-cf-opt"
  },
  "language_info": {
   "codemirror_mode": {
    "name": "ipython",
    "version": 3
   },
   "file_extension": ".py",
   "mimetype": "text/x-python",
   "name": "python",
   "nbconvert_exporter": "python",
   "pygments_lexer": "ipython3",
   "version": "3.6.5"
  }
 },
 "nbformat": 4,
 "nbformat_minor": 2
}
